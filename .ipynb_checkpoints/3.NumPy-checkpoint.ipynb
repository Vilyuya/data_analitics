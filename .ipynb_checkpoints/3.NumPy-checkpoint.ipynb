{
 "cells": [
  {
   "cell_type": "markdown",
   "id": "0f177e07",
   "metadata": {},
   "source": [
    "## Операции\n"
   ]
  },
  {
   "cell_type": "code",
   "execution_count": 1,
   "id": "3e7233e2",
   "metadata": {},
   "outputs": [],
   "source": [
    "import numpy as np"
   ]
  },
  {
   "cell_type": "code",
   "execution_count": 3,
   "id": "0dbf322b",
   "metadata": {},
   "outputs": [
    {
     "data": {
      "text/plain": [
       "(array([1, 3, 5, 7, 9]), array([0, 1, 2, 3, 4]))"
      ]
     },
     "execution_count": 3,
     "metadata": {},
     "output_type": "execute_result"
    }
   ],
   "source": [
    "# 1-мерные массивы\n",
    "arr_1 = np.arange(1,10,2)\n",
    "arr_2 = np.arange(5)\n",
    "\n",
    "arr_1, arr_2"
   ]
  },
  {
   "cell_type": "code",
   "execution_count": 4,
   "id": "297e8580",
   "metadata": {},
   "outputs": [
    {
     "data": {
      "text/plain": [
       "array([ 1,  4,  7, 10, 13])"
      ]
     },
     "execution_count": 4,
     "metadata": {},
     "output_type": "execute_result"
    }
   ],
   "source": [
    "# поэлементное сложение массивов\n",
    "#\"+\" - алиас универсальной функции np.add()\n",
    "arr_1 + arr_2"
   ]
  },
  {
   "cell_type": "code",
   "execution_count": 5,
   "id": "b8ed2c74",
   "metadata": {},
   "outputs": [
    {
     "data": {
      "text/plain": [
       "array([ 1,  4,  7, 10, 13])"
      ]
     },
     "execution_count": 5,
     "metadata": {},
     "output_type": "execute_result"
    }
   ],
   "source": [
    "np.add(arr_1, arr_2)"
   ]
  },
  {
   "cell_type": "code",
   "execution_count": 6,
   "id": "d120463d",
   "metadata": {},
   "outputs": [
    {
     "data": {
      "text/plain": [
       "array([ 0,  3, 10, 21, 36])"
      ]
     },
     "execution_count": 6,
     "metadata": {},
     "output_type": "execute_result"
    }
   ],
   "source": [
    "# поэлементное умножение массивов(произведение Адамара)\n",
    "arr_1 * arr_2"
   ]
  },
  {
   "cell_type": "code",
   "execution_count": 9,
   "id": "aecdce54",
   "metadata": {},
   "outputs": [
    {
     "data": {
      "text/plain": [
       "(array([[0, 1, 2],\n",
       "        [3, 4, 5],\n",
       "        [6, 7, 8]]),\n",
       " array([[10, 11, 12],\n",
       "        [13, 14, 15],\n",
       "        [16, 17, 18]]))"
      ]
     },
     "execution_count": 9,
     "metadata": {},
     "output_type": "execute_result"
    }
   ],
   "source": [
    "# 2 мерный массив\n",
    "arr_3 = np.arange(9).reshape((3,3))\n",
    "arr_4 = np.arange(10,19).reshape((3,3))\n",
    "arr_3, arr_4"
   ]
  },
  {
   "cell_type": "code",
   "execution_count": 10,
   "id": "61ae6271",
   "metadata": {},
   "outputs": [
    {
     "data": {
      "text/plain": [
       "array([[  0,  11,  24],\n",
       "       [ 39,  56,  75],\n",
       "       [ 96, 119, 144]])"
      ]
     },
     "execution_count": 10,
     "metadata": {},
     "output_type": "execute_result"
    }
   ],
   "source": [
    "arr_3*arr_4"
   ]
  },
  {
   "cell_type": "code",
   "execution_count": 11,
   "id": "2c42e787",
   "metadata": {},
   "outputs": [
    {
     "data": {
      "text/plain": [
       "(array([1, 3, 5, 7, 9]), array([0, 1, 2, 3, 4]))"
      ]
     },
     "execution_count": 11,
     "metadata": {},
     "output_type": "execute_result"
    }
   ],
   "source": [
    "# матричное умножение (точечное умножение)\n",
    "arr_1, arr_2"
   ]
  },
  {
   "cell_type": "code",
   "execution_count": 14,
   "id": "1f57a25f",
   "metadata": {},
   "outputs": [
    {
     "data": {
      "text/plain": [
       "array([[0],\n",
       "       [1],\n",
       "       [2],\n",
       "       [3],\n",
       "       [4]])"
      ]
     },
     "execution_count": 14,
     "metadata": {},
     "output_type": "execute_result"
    }
   ],
   "source": [
    "arr_2_col = arr_2.reshape((5,1))\n",
    "arr_2_col"
   ]
  },
  {
   "cell_type": "code",
   "execution_count": 15,
   "id": "a8077d43",
   "metadata": {},
   "outputs": [
    {
     "data": {
      "text/plain": [
       "array([70])"
      ]
     },
     "execution_count": 15,
     "metadata": {},
     "output_type": "execute_result"
    }
   ],
   "source": [
    "np.dot(arr_1, arr_2_col)"
   ]
  },
  {
   "cell_type": "code",
   "execution_count": 16,
   "id": "5e94d520",
   "metadata": {},
   "outputs": [
    {
     "data": {
      "text/plain": [
       "array([70])"
      ]
     },
     "execution_count": 16,
     "metadata": {},
     "output_type": "execute_result"
    }
   ],
   "source": [
    "arr_1 @ arr_2_col"
   ]
  },
  {
   "cell_type": "code",
   "execution_count": 17,
   "id": "27e3c071",
   "metadata": {},
   "outputs": [
    {
     "data": {
      "text/plain": [
       "(array([[ 0,  1,  2,  3,  4],\n",
       "        [ 5,  6,  7,  8,  9],\n",
       "        [10, 11, 12, 13, 14]]),\n",
       " array([[ 0,  1,  2,  3],\n",
       "        [ 4,  5,  6,  7],\n",
       "        [ 8,  9, 10, 11],\n",
       "        [12, 13, 14, 15],\n",
       "        [16, 17, 18, 19]]))"
      ]
     },
     "execution_count": 17,
     "metadata": {},
     "output_type": "execute_result"
    }
   ],
   "source": [
    "arr_5 = np.arange(15).reshape((3,5))\n",
    "arr_6 = np.arange(20).reshape((5,4))\n",
    "\n",
    "arr_5, arr_6"
   ]
  },
  {
   "cell_type": "code",
   "execution_count": 18,
   "id": "691dc0bc",
   "metadata": {},
   "outputs": [
    {
     "data": {
      "text/plain": [
       "array([[120, 130, 140, 150],\n",
       "       [320, 355, 390, 425],\n",
       "       [520, 580, 640, 700]])"
      ]
     },
     "execution_count": 18,
     "metadata": {},
     "output_type": "execute_result"
    }
   ],
   "source": [
    "# (3,5)* (5,4) --> (3,4)\n",
    "arr_5 @ arr_6"
   ]
  },
  {
   "cell_type": "code",
   "execution_count": 20,
   "id": "b38b1bbb",
   "metadata": {},
   "outputs": [
    {
     "data": {
      "text/plain": [
       "(array([0, 1, 2, 3, 4]),\n",
       " array([[ 0,  1,  2,  3],\n",
       "        [ 4,  5,  6,  7],\n",
       "        [ 8,  9, 10, 11],\n",
       "        [12, 13, 14, 15],\n",
       "        [16, 17, 18, 19]]))"
      ]
     },
     "execution_count": 20,
     "metadata": {},
     "output_type": "execute_result"
    }
   ],
   "source": [
    "# вектор- строка @ матрица -> вектор-строка\n",
    "x = np.arange(5)\n",
    "W = np.arange(5*4).reshape((5,4))\n",
    "x,W"
   ]
  },
  {
   "cell_type": "code",
   "execution_count": 21,
   "id": "56fb95a4",
   "metadata": {},
   "outputs": [
    {
     "data": {
      "text/plain": [
       "array([120, 130, 140, 150])"
      ]
     },
     "execution_count": 21,
     "metadata": {},
     "output_type": "execute_result"
    }
   ],
   "source": [
    "x@W"
   ]
  },
  {
   "cell_type": "code",
   "execution_count": 22,
   "id": "9a4c8bd1",
   "metadata": {},
   "outputs": [
    {
     "data": {
      "text/plain": [
       "120"
      ]
     },
     "execution_count": 22,
     "metadata": {},
     "output_type": "execute_result"
    }
   ],
   "source": [
    "x[0]* W[0,0]+x[1]* W[1,0]+x[2]* W[2,0]+x[3]* W[3,0]+x[4]* W[4,0]"
   ]
  },
  {
   "cell_type": "code",
   "execution_count": 23,
   "id": "407f4046",
   "metadata": {},
   "outputs": [
    {
     "data": {
      "text/plain": [
       "(array([1, 3, 5, 7, 9]), array([0, 1, 2, 3, 4]))"
      ]
     },
     "execution_count": 23,
     "metadata": {},
     "output_type": "execute_result"
    }
   ],
   "source": [
    "# логические операции\n",
    "arr_1, arr_2"
   ]
  },
  {
   "cell_type": "code",
   "execution_count": 24,
   "id": "f40ec853",
   "metadata": {},
   "outputs": [
    {
     "data": {
      "text/plain": [
       "array([ True,  True,  True,  True,  True])"
      ]
     },
     "execution_count": 24,
     "metadata": {},
     "output_type": "execute_result"
    }
   ],
   "source": [
    "arr_1 > arr_2"
   ]
  },
  {
   "cell_type": "code",
   "execution_count": 25,
   "id": "7fad017d",
   "metadata": {},
   "outputs": [
    {
     "data": {
      "text/plain": [
       "array([ True,  True,  True,  True,  True])"
      ]
     },
     "execution_count": 25,
     "metadata": {},
     "output_type": "execute_result"
    }
   ],
   "source": [
    "# не равно\n",
    "arr_1 != arr_2"
   ]
  },
  {
   "cell_type": "code",
   "execution_count": 26,
   "id": "ad11959e",
   "metadata": {},
   "outputs": [
    {
     "data": {
      "text/plain": [
       "array([3, 3, 0, 4, 8, 7, 4])"
      ]
     },
     "execution_count": 26,
     "metadata": {},
     "output_type": "execute_result"
    }
   ],
   "source": [
    "# Агрегирование - вычисление неких сводных показателей\n",
    "arr_7 =  np.random.randint(10, size=7)\n",
    "arr_7"
   ]
  },
  {
   "cell_type": "code",
   "execution_count": 27,
   "id": "a3f5ead3",
   "metadata": {},
   "outputs": [
    {
     "data": {
      "text/plain": [
       "29"
      ]
     },
     "execution_count": 27,
     "metadata": {},
     "output_type": "execute_result"
    }
   ],
   "source": [
    "# сумму \n",
    "np.sum(arr_7)"
   ]
  },
  {
   "cell_type": "code",
   "execution_count": 31,
   "id": "531fd0de",
   "metadata": {},
   "outputs": [
    {
     "data": {
      "text/plain": [
       "array([[ 0,  1,  2,  3],\n",
       "       [ 4,  5,  6,  7],\n",
       "       [ 8,  9, 10, 11]])"
      ]
     },
     "execution_count": 31,
     "metadata": {},
     "output_type": "execute_result"
    }
   ],
   "source": [
    "arr_8 = np.arange(3*4).reshape((3,4))\n",
    "arr_8"
   ]
  },
  {
   "cell_type": "code",
   "execution_count": 32,
   "id": "8fe4b8cf",
   "metadata": {},
   "outputs": [
    {
     "data": {
      "text/plain": [
       "array([12, 15, 18, 21])"
      ]
     },
     "execution_count": 32,
     "metadata": {},
     "output_type": "execute_result"
    }
   ],
   "source": [
    "# суммирование вдоль столбцов\n",
    "np.sum(arr_8, axis=0)"
   ]
  },
  {
   "cell_type": "code",
   "execution_count": 33,
   "id": "ec496818",
   "metadata": {},
   "outputs": [
    {
     "data": {
      "text/plain": [
       "array([ 6, 22, 38])"
      ]
     },
     "execution_count": 33,
     "metadata": {},
     "output_type": "execute_result"
    }
   ],
   "source": [
    "# суммирование вдоль строк\n",
    "np.sum(arr_8, axis=1)"
   ]
  },
  {
   "cell_type": "code",
   "execution_count": 35,
   "id": "d7e5b8e2",
   "metadata": {},
   "outputs": [
    {
     "data": {
      "text/plain": [
       "array([ 6, 22, 38])"
      ]
     },
     "execution_count": 35,
     "metadata": {},
     "output_type": "execute_result"
    }
   ],
   "source": [
    "arr_8.sum(axis =1)"
   ]
  },
  {
   "cell_type": "code",
   "execution_count": 36,
   "id": "4e311e12",
   "metadata": {},
   "outputs": [
    {
     "data": {
      "text/plain": [
       "0"
      ]
     },
     "execution_count": 36,
     "metadata": {},
     "output_type": "execute_result"
    }
   ],
   "source": [
    "# минимум \n",
    "# по всему массиву\n",
    "np.min(arr_8)"
   ]
  },
  {
   "cell_type": "code",
   "execution_count": 37,
   "id": "be9c234a",
   "metadata": {},
   "outputs": [
    {
     "data": {
      "text/plain": [
       "array([0, 1, 2, 3])"
      ]
     },
     "execution_count": 37,
     "metadata": {},
     "output_type": "execute_result"
    }
   ],
   "source": [
    "# минимум вдоль столбцов\n",
    "np.min(arr_8,axis=0)"
   ]
  },
  {
   "cell_type": "code",
   "execution_count": 38,
   "id": "0e0cb1d2",
   "metadata": {},
   "outputs": [
    {
     "data": {
      "text/plain": [
       "array([0, 4, 8])"
      ]
     },
     "execution_count": 38,
     "metadata": {},
     "output_type": "execute_result"
    }
   ],
   "source": [
    "# минимум вдоль строк\n",
    "np.min(arr_8,axis=1)"
   ]
  },
  {
   "cell_type": "code",
   "execution_count": 39,
   "id": "01966782",
   "metadata": {},
   "outputs": [
    {
     "data": {
      "text/plain": [
       "5.5"
      ]
     },
     "execution_count": 39,
     "metadata": {},
     "output_type": "execute_result"
    }
   ],
   "source": [
    "# среднее арифметическое\n",
    "np.mean(arr_8)"
   ]
  },
  {
   "cell_type": "code",
   "execution_count": 47,
   "id": "4a8323da",
   "metadata": {},
   "outputs": [
    {
     "data": {
      "text/plain": [
       "(array([[20., 21., 22., 23., 24.],\n",
       "        [25., 26., 27., 28., 29.],\n",
       "        [30., 31., 32., 33., 34.],\n",
       "        [35., 36., 37., 38., 39.]]),\n",
       " array([[ 7.5,  8.5,  9.5, 10.5, 11.5],\n",
       "        [27.5, 28.5, 29.5, 30.5, 31.5],\n",
       "        [47.5, 48.5, 49.5, 50.5, 51.5]]),\n",
       " array([[ 2.,  7., 12., 17.],\n",
       "        [22., 27., 32., 37.],\n",
       "        [42., 47., 52., 57.]]))"
      ]
     },
     "execution_count": 47,
     "metadata": {},
     "output_type": "execute_result"
    }
   ],
   "source": [
    "# вычислить ср значения по всем осям произвольного 3- мерного массива\n",
    "arr_9 = np.arange(3*4*5).reshape((3,4,5))\n",
    "np.mean(arr_9, axis=0), np.mean(arr_9, axis=1), np.mean(arr_9, axis=2)"
   ]
  },
  {
   "cell_type": "markdown",
   "id": "a1e9734a",
   "metadata": {},
   "source": [
    "- Маскирование"
   ]
  },
  {
   "cell_type": "code",
   "execution_count": 49,
   "id": "51c38909",
   "metadata": {},
   "outputs": [
    {
     "data": {
      "text/plain": [
       "array([0, 1, 2, 3, 4])"
      ]
     },
     "execution_count": 49,
     "metadata": {},
     "output_type": "execute_result"
    }
   ],
   "source": [
    "arr_10 = np.arange(5)\n",
    "arr_10"
   ]
  },
  {
   "cell_type": "code",
   "execution_count": 50,
   "id": "c8512517",
   "metadata": {},
   "outputs": [
    {
     "data": {
      "text/plain": [
       "array([False, False, False,  True,  True])"
      ]
     },
     "execution_count": 50,
     "metadata": {},
     "output_type": "execute_result"
    }
   ],
   "source": [
    "arr_10 > 2"
   ]
  },
  {
   "cell_type": "code",
   "execution_count": 51,
   "id": "fde2e197",
   "metadata": {},
   "outputs": [
    {
     "data": {
      "text/plain": [
       "array([ True,  True,  True, False, False])"
      ]
     },
     "execution_count": 51,
     "metadata": {},
     "output_type": "execute_result"
    }
   ],
   "source": [
    "mask = arr_10 <3\n",
    "mask"
   ]
  },
  {
   "cell_type": "code",
   "execution_count": 52,
   "id": "6f04670e",
   "metadata": {},
   "outputs": [
    {
     "data": {
      "text/plain": [
       "array([0, 1, 2])"
      ]
     },
     "execution_count": 52,
     "metadata": {},
     "output_type": "execute_result"
    }
   ],
   "source": [
    "arr_10[mask]"
   ]
  },
  {
   "cell_type": "code",
   "execution_count": 53,
   "id": "f5e949bc",
   "metadata": {},
   "outputs": [
    {
     "data": {
      "text/plain": [
       "array([[ 0,  1,  2,  3],\n",
       "       [ 4,  5,  6,  7],\n",
       "       [ 8,  9, 10, 11]])"
      ]
     },
     "execution_count": 53,
     "metadata": {},
     "output_type": "execute_result"
    }
   ],
   "source": [
    "arr_11 = np.arange(12).reshape(3,4)\n",
    "arr_11"
   ]
  },
  {
   "cell_type": "code",
   "execution_count": 54,
   "id": "cd194f47",
   "metadata": {},
   "outputs": [
    {
     "data": {
      "text/plain": [
       "array([0, 1, 2, 3, 4, 5])"
      ]
     },
     "execution_count": 54,
     "metadata": {},
     "output_type": "execute_result"
    }
   ],
   "source": [
    "arr_11[arr_11<6]"
   ]
  },
  {
   "cell_type": "code",
   "execution_count": null,
   "id": "1ce439ba",
   "metadata": {},
   "outputs": [],
   "source": []
  }
 ],
 "metadata": {
  "kernelspec": {
   "display_name": "Python 3 (ipykernel)",
   "language": "python",
   "name": "python3"
  },
  "language_info": {
   "codemirror_mode": {
    "name": "ipython",
    "version": 3
   },
   "file_extension": ".py",
   "mimetype": "text/x-python",
   "name": "python",
   "nbconvert_exporter": "python",
   "pygments_lexer": "ipython3",
   "version": "3.9.7"
  }
 },
 "nbformat": 4,
 "nbformat_minor": 5
}
