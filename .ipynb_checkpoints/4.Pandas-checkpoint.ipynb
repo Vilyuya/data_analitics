{
 "cells": [
  {
   "cell_type": "code",
   "execution_count": 1,
   "id": "07885e24",
   "metadata": {},
   "outputs": [],
   "source": [
    "import numpy as np\n",
    "import pandas as pd"
   ]
  },
  {
   "cell_type": "markdown",
   "id": "11d69e10",
   "metadata": {},
   "source": [
    "## Pandas -  библиотека для работы с данными"
   ]
  },
  {
   "cell_type": "code",
   "execution_count": 5,
   "id": "a6aba5d6",
   "metadata": {},
   "outputs": [
    {
     "data": {
      "text/html": [
       "<div>\n",
       "<style scoped>\n",
       "    .dataframe tbody tr th:only-of-type {\n",
       "        vertical-align: middle;\n",
       "    }\n",
       "\n",
       "    .dataframe tbody tr th {\n",
       "        vertical-align: top;\n",
       "    }\n",
       "\n",
       "    .dataframe thead th {\n",
       "        text-align: right;\n",
       "    }\n",
       "</style>\n",
       "<table border=\"1\" class=\"dataframe\">\n",
       "  <thead>\n",
       "    <tr style=\"text-align: right;\">\n",
       "      <th></th>\n",
       "      <th>order</th>\n",
       "      <th>name</th>\n",
       "      <th>height(cm)</th>\n",
       "    </tr>\n",
       "  </thead>\n",
       "  <tbody>\n",
       "    <tr>\n",
       "      <th>0</th>\n",
       "      <td>1</td>\n",
       "      <td>George Washington</td>\n",
       "      <td>189</td>\n",
       "    </tr>\n",
       "    <tr>\n",
       "      <th>1</th>\n",
       "      <td>2</td>\n",
       "      <td>John Adams</td>\n",
       "      <td>170</td>\n",
       "    </tr>\n",
       "    <tr>\n",
       "      <th>2</th>\n",
       "      <td>3</td>\n",
       "      <td>Thomas Jefferson</td>\n",
       "      <td>189</td>\n",
       "    </tr>\n",
       "    <tr>\n",
       "      <th>3</th>\n",
       "      <td>4</td>\n",
       "      <td>James Madison</td>\n",
       "      <td>163</td>\n",
       "    </tr>\n",
       "    <tr>\n",
       "      <th>4</th>\n",
       "      <td>5</td>\n",
       "      <td>James Monroe</td>\n",
       "      <td>183</td>\n",
       "    </tr>\n",
       "  </tbody>\n",
       "</table>\n",
       "</div>"
      ],
      "text/plain": [
       "   order               name  height(cm)\n",
       "0      1  George Washington         189\n",
       "1      2         John Adams         170\n",
       "2      3   Thomas Jefferson         189\n",
       "3      4      James Madison         163\n",
       "4      5       James Monroe         183"
      ]
     },
     "execution_count": 5,
     "metadata": {},
     "output_type": "execute_result"
    }
   ],
   "source": [
    "data = pd.read_csv(\"data/president_heights.csv\")\n",
    "data.head()"
   ]
  },
  {
   "cell_type": "code",
   "execution_count": 7,
   "id": "40567940",
   "metadata": {},
   "outputs": [
    {
     "data": {
      "text/plain": [
       "0    1\n",
       "1    2\n",
       "2    3\n",
       "3    4\n",
       "4    5\n",
       "Name: order, dtype: int64"
      ]
     },
     "execution_count": 7,
     "metadata": {},
     "output_type": "execute_result"
    }
   ],
   "source": [
    "data[\"order\"][:5]"
   ]
  },
  {
   "cell_type": "code",
   "execution_count": null,
   "id": "fcacaec3",
   "metadata": {},
   "outputs": [],
   "source": []
  },
  {
   "cell_type": "markdown",
   "id": "3a4d0d02",
   "metadata": {},
   "source": [
    "- Объект класса (типа) **Series**"
   ]
  },
  {
   "cell_type": "code",
   "execution_count": 8,
   "id": "c0218751",
   "metadata": {},
   "outputs": [
    {
     "data": {
      "text/plain": [
       "0    10\n",
       "1    20\n",
       "2    30\n",
       "3    40\n",
       "dtype: int64"
      ]
     },
     "execution_count": 8,
     "metadata": {},
     "output_type": "execute_result"
    }
   ],
   "source": [
    "# Series 1-мерный массив индексированных данных\n",
    "s1 = pd.Series([10,20,30,40])\n",
    "s1"
   ]
  },
  {
   "cell_type": "code",
   "execution_count": 9,
   "id": "a1eb7246",
   "metadata": {},
   "outputs": [
    {
     "data": {
      "text/plain": [
       "array([10, 20, 30, 40], dtype=int64)"
      ]
     },
     "execution_count": 9,
     "metadata": {},
     "output_type": "execute_result"
    }
   ],
   "source": [
    "# значения \n",
    "s1.values"
   ]
  },
  {
   "cell_type": "code",
   "execution_count": 13,
   "id": "a7881366",
   "metadata": {},
   "outputs": [
    {
     "data": {
      "text/plain": [
       "array(['George Washington', 'John Adams', 'Thomas Jefferson',\n",
       "       'James Madison', 'James Monroe', 'John Quincy Adams',\n",
       "       'Andrew Jackson', 'Martin Van Buren', 'William Henry Harrison',\n",
       "       'John Tyler', 'James K. Polk', 'Zachary Taylor',\n",
       "       'Millard Fillmore', 'Franklin Pierce', 'James Buchanan',\n",
       "       'Abraham Lincoln', 'Andrew Johnson', 'Ulysses S. Grant',\n",
       "       'Rutherford B. Hayes', 'James A. Garfield', 'Chester A. Arthur',\n",
       "       'Benjamin Harrison', 'William McKinley', 'Theodore Roosevelt',\n",
       "       'William Howard Taft', 'Woodrow Wilson', 'Warren G. Harding',\n",
       "       'Calvin Coolidge', 'Herbert Hoover', 'Franklin D. Roosevelt',\n",
       "       'Harry S. Truman', 'Dwight D. Eisenhower', 'John F. Kennedy',\n",
       "       'Lyndon B. Johnson', 'Richard Nixon', 'Gerald Ford',\n",
       "       'Jimmy Carter', 'Ronald Reagan', 'George H. W. Bush',\n",
       "       'Bill Clinton', 'George W. Bush', 'Barack Obama'], dtype=object)"
      ]
     },
     "execution_count": 13,
     "metadata": {},
     "output_type": "execute_result"
    }
   ],
   "source": [
    "data[\"name\"].values"
   ]
  },
  {
   "cell_type": "code",
   "execution_count": 14,
   "id": "8a58d7ac",
   "metadata": {},
   "outputs": [
    {
     "data": {
      "text/plain": [
       "RangeIndex(start=0, stop=42, step=1)"
      ]
     },
     "execution_count": 14,
     "metadata": {},
     "output_type": "execute_result"
    }
   ],
   "source": [
    "# индексы\n",
    "data[\"order\"].index"
   ]
  },
  {
   "cell_type": "code",
   "execution_count": 15,
   "id": "ad8ce63a",
   "metadata": {},
   "outputs": [
    {
     "name": "stdout",
     "output_type": "stream",
     "text": [
      "0\n",
      "1\n",
      "2\n",
      "3\n",
      "4\n",
      "5\n"
     ]
    }
   ],
   "source": [
    "for idx in data[\"order\"].index:\n",
    "    print(idx)\n",
    "    if idx ==5:\n",
    "        break"
   ]
  },
  {
   "cell_type": "code",
   "execution_count": 16,
   "id": "a7916353",
   "metadata": {},
   "outputs": [
    {
     "data": {
      "text/plain": [
       "((42,), dtype('int64'), 336)"
      ]
     },
     "execution_count": 16,
     "metadata": {},
     "output_type": "execute_result"
    }
   ],
   "source": [
    "# Атрибуты numpy \n",
    "data[\"order\"].shape, data[\"order\"].dtype, data[\"order\"].nbytes"
   ]
  },
  {
   "cell_type": "code",
   "execution_count": 17,
   "id": "b98f93f2",
   "metadata": {},
   "outputs": [
    {
     "data": {
      "text/plain": [
       "'George Washington'"
      ]
     },
     "execution_count": 17,
     "metadata": {},
     "output_type": "execute_result"
    }
   ],
   "source": [
    "# чтение данных\n",
    "data[\"name\"][0]"
   ]
  },
  {
   "cell_type": "code",
   "execution_count": 18,
   "id": "7070aeff",
   "metadata": {},
   "outputs": [
    {
     "data": {
      "text/plain": [
       "10          James K. Polk\n",
       "11         Zachary Taylor\n",
       "12       Millard Fillmore\n",
       "13        Franklin Pierce\n",
       "14         James Buchanan\n",
       "15        Abraham Lincoln\n",
       "16         Andrew Johnson\n",
       "17       Ulysses S. Grant\n",
       "18    Rutherford B. Hayes\n",
       "19      James A. Garfield\n",
       "Name: name, dtype: object"
      ]
     },
     "execution_count": 18,
     "metadata": {},
     "output_type": "execute_result"
    }
   ],
   "source": [
    "names = data[\"name\"]\n",
    "names[10:20]\n",
    "\n"
   ]
  },
  {
   "cell_type": "code",
   "execution_count": 19,
   "id": "f84c4562",
   "metadata": {},
   "outputs": [
    {
     "data": {
      "text/plain": [
       "10    100\n",
       "5     200\n",
       "0      50\n",
       "dtype: int64"
      ]
     },
     "execution_count": 19,
     "metadata": {},
     "output_type": "execute_result"
    }
   ],
   "source": [
    "# явные индексы\n",
    "d1 = {10:100, 5:200, 0:50}\n",
    "s2 = pd.Series(d1)\n",
    "s2"
   ]
  },
  {
   "cell_type": "code",
   "execution_count": 20,
   "id": "238e6c0c",
   "metadata": {},
   "outputs": [
    {
     "data": {
      "text/plain": [
       "50"
      ]
     },
     "execution_count": 20,
     "metadata": {},
     "output_type": "execute_result"
    }
   ],
   "source": [
    "# по умолчанию работают явные индексы\n",
    "s2[0]"
   ]
  },
  {
   "cell_type": "code",
   "execution_count": 22,
   "id": "16bfc8a9",
   "metadata": {},
   "outputs": [
    {
     "data": {
      "text/plain": [
       "D         100\n",
       "G         200\n",
       "phyton     50\n",
       "dtype: int64"
      ]
     },
     "execution_count": 22,
     "metadata": {},
     "output_type": "execute_result"
    }
   ],
   "source": [
    "# Символьные явные индексы\n",
    "d2 = {'D':100, 'G':200, 'phyton':50}\n",
    "s3 = pd.Series(d2)\n",
    "s3"
   ]
  },
  {
   "cell_type": "code",
   "execution_count": 23,
   "id": "6ef704fd",
   "metadata": {},
   "outputs": [
    {
     "data": {
      "text/plain": [
       "50"
      ]
     },
     "execution_count": 23,
     "metadata": {},
     "output_type": "execute_result"
    }
   ],
   "source": [
    "s3[\"phyton\"]"
   ]
  },
  {
   "cell_type": "code",
   "execution_count": 24,
   "id": "ab9461df",
   "metadata": {},
   "outputs": [
    {
     "data": {
      "text/plain": [
       "100"
      ]
     },
     "execution_count": 24,
     "metadata": {},
     "output_type": "execute_result"
    }
   ],
   "source": [
    "# не явные индексы\n",
    "# iloc - атрибут- индексатор для работы с неявными индексами\n",
    "s3.iloc[0]"
   ]
  },
  {
   "cell_type": "code",
   "execution_count": 25,
   "id": "b1915456",
   "metadata": {},
   "outputs": [
    {
     "data": {
      "text/plain": [
       "D    100\n",
       "G    200\n",
       "dtype: int64"
      ]
     },
     "execution_count": 25,
     "metadata": {},
     "output_type": "execute_result"
    }
   ],
   "source": [
    "s3.iloc[:2]"
   ]
  },
  {
   "cell_type": "code",
   "execution_count": null,
   "id": "306fa935",
   "metadata": {},
   "outputs": [],
   "source": []
  },
  {
   "cell_type": "code",
   "execution_count": 26,
   "id": "04d90745",
   "metadata": {},
   "outputs": [
    {
     "data": {
      "text/plain": [
       "Якутск      318768\n",
       "Нерюнгри     57009\n",
       "Вилюйск      11095\n",
       "dtype: int64"
      ]
     },
     "execution_count": 26,
     "metadata": {},
     "output_type": "execute_result"
    }
   ],
   "source": [
    "# Последовательность  с городами Якутии\n",
    "pop_dict ={\n",
    "    \"Якутск\": 318768,\n",
    "    \"Нерюнгри\": 57009,\n",
    "    \"Вилюйск\": 11095\n",
    "}\n",
    "pop_series = pd.Series(pop_dict)\n",
    "pop_series"
   ]
  },
  {
   "cell_type": "code",
   "execution_count": null,
   "id": "ad78fea1",
   "metadata": {},
   "outputs": [],
   "source": [
    "# вывести население какого-либо города\n",
    "# Срез от Нерюнгри до Вилюйска (срез по явным индексам)"
   ]
  },
  {
   "cell_type": "code",
   "execution_count": 27,
   "id": "a99fc1c8",
   "metadata": {},
   "outputs": [
    {
     "data": {
      "text/plain": [
       "57009"
      ]
     },
     "execution_count": 27,
     "metadata": {},
     "output_type": "execute_result"
    }
   ],
   "source": [
    "pop_series[\"Нерюнгри\"]"
   ]
  },
  {
   "cell_type": "code",
   "execution_count": 28,
   "id": "efe7388c",
   "metadata": {},
   "outputs": [
    {
     "data": {
      "text/plain": [
       "Нерюнгри    57009\n",
       "Вилюйск     11095\n",
       "dtype: int64"
      ]
     },
     "execution_count": 28,
     "metadata": {},
     "output_type": "execute_result"
    }
   ],
   "source": [
    "pop_series[\"Нерюнгри\":]"
   ]
  },
  {
   "cell_type": "code",
   "execution_count": 29,
   "id": "d3327587",
   "metadata": {},
   "outputs": [
    {
     "data": {
      "text/plain": [
       "Нерюнгри    57009\n",
       "Вилюйск     11095\n",
       "dtype: int64"
      ]
     },
     "execution_count": 29,
     "metadata": {},
     "output_type": "execute_result"
    }
   ],
   "source": [
    "# когда срез выполняется с явными индексами , то последний индекс ВКЛЮЧАЕТСЯ в срез\n",
    "pop_series[\"Нерюнгри\":\"Вилюйск\"]"
   ]
  },
  {
   "cell_type": "code",
   "execution_count": 30,
   "id": "6649ee4c",
   "metadata": {},
   "outputs": [
    {
     "data": {
      "text/plain": [
       "Нерюнгри    57009\n",
       "dtype: int64"
      ]
     },
     "execution_count": 30,
     "metadata": {},
     "output_type": "execute_result"
    }
   ],
   "source": [
    "pop_series.iloc[1:2]"
   ]
  },
  {
   "cell_type": "code",
   "execution_count": null,
   "id": "b2fde4af",
   "metadata": {},
   "outputs": [],
   "source": []
  },
  {
   "cell_type": "markdown",
   "id": "7e034f32",
   "metadata": {},
   "source": [
    "- Объект класса (типа) **DataFrame**"
   ]
  },
  {
   "cell_type": "code",
   "execution_count": 31,
   "id": "ee6e3ea1",
   "metadata": {},
   "outputs": [
    {
     "data": {
      "text/html": [
       "<div>\n",
       "<style scoped>\n",
       "    .dataframe tbody tr th:only-of-type {\n",
       "        vertical-align: middle;\n",
       "    }\n",
       "\n",
       "    .dataframe tbody tr th {\n",
       "        vertical-align: top;\n",
       "    }\n",
       "\n",
       "    .dataframe thead th {\n",
       "        text-align: right;\n",
       "    }\n",
       "</style>\n",
       "<table border=\"1\" class=\"dataframe\">\n",
       "  <thead>\n",
       "    <tr style=\"text-align: right;\">\n",
       "      <th></th>\n",
       "      <th>col_1</th>\n",
       "      <th>col_2</th>\n",
       "    </tr>\n",
       "  </thead>\n",
       "  <tbody>\n",
       "    <tr>\n",
       "      <th>row_1</th>\n",
       "      <td>100.0</td>\n",
       "      <td>NaN</td>\n",
       "    </tr>\n",
       "    <tr>\n",
       "      <th>row_2</th>\n",
       "      <td>200.0</td>\n",
       "      <td>300.0</td>\n",
       "    </tr>\n",
       "    <tr>\n",
       "      <th>row_3</th>\n",
       "      <td>NaN</td>\n",
       "      <td>400.0</td>\n",
       "    </tr>\n",
       "  </tbody>\n",
       "</table>\n",
       "</div>"
      ],
      "text/plain": [
       "       col_1  col_2\n",
       "row_1  100.0    NaN\n",
       "row_2  200.0  300.0\n",
       "row_3    NaN  400.0"
      ]
     },
     "execution_count": 31,
     "metadata": {},
     "output_type": "execute_result"
    }
   ],
   "source": [
    "# Многомерный массив (таблица)\n",
    "d3 ={\n",
    "    \"col_1\":{\"row_1\":100, \"row_2\":200},\n",
    "    \"col_2\":{\"row_2\":300, \"row_3\":400}\n",
    "}\n",
    "df1 = pd.DataFrame(d3)\n",
    "df1"
   ]
  },
  {
   "cell_type": "code",
   "execution_count": 32,
   "id": "b12d8575",
   "metadata": {},
   "outputs": [],
   "source": [
    "# NaN - Not a Number \n"
   ]
  },
  {
   "cell_type": "code",
   "execution_count": 33,
   "id": "580ceedc",
   "metadata": {},
   "outputs": [
    {
     "data": {
      "text/plain": [
       "Якутск      122.0\n",
       "Вилюйск      15.0\n",
       "Нерюнгри     98.9\n",
       "dtype: float64"
      ]
     },
     "execution_count": 33,
     "metadata": {},
     "output_type": "execute_result"
    }
   ],
   "source": [
    "# данные по площадям городов\n",
    "area_series = pd.Series({\n",
    "    \"Якутск\": 122,\n",
    "    \"Вилюйск\": 15,\n",
    "    \"Нерюнгри\": 98.9\n",
    "       \n",
    "})\n",
    "area_series"
   ]
  },
  {
   "cell_type": "code",
   "execution_count": 38,
   "id": "6a79fb8e",
   "metadata": {},
   "outputs": [
    {
     "data": {
      "text/html": [
       "<div>\n",
       "<style scoped>\n",
       "    .dataframe tbody tr th:only-of-type {\n",
       "        vertical-align: middle;\n",
       "    }\n",
       "\n",
       "    .dataframe tbody tr th {\n",
       "        vertical-align: top;\n",
       "    }\n",
       "\n",
       "    .dataframe thead th {\n",
       "        text-align: right;\n",
       "    }\n",
       "</style>\n",
       "<table border=\"1\" class=\"dataframe\">\n",
       "  <thead>\n",
       "    <tr style=\"text-align: right;\">\n",
       "      <th></th>\n",
       "      <th>Население</th>\n",
       "      <th>Площадь</th>\n",
       "    </tr>\n",
       "  </thead>\n",
       "  <tbody>\n",
       "    <tr>\n",
       "      <th>Вилюйск</th>\n",
       "      <td>11095</td>\n",
       "      <td>15.0</td>\n",
       "    </tr>\n",
       "    <tr>\n",
       "      <th>Нерюнгри</th>\n",
       "      <td>57009</td>\n",
       "      <td>98.9</td>\n",
       "    </tr>\n",
       "    <tr>\n",
       "      <th>Якутск</th>\n",
       "      <td>318768</td>\n",
       "      <td>122.0</td>\n",
       "    </tr>\n",
       "  </tbody>\n",
       "</table>\n",
       "</div>"
      ],
      "text/plain": [
       "          Население  Площадь\n",
       "Вилюйск       11095     15.0\n",
       "Нерюнгри      57009     98.9\n",
       "Якутск       318768    122.0"
      ]
     },
     "execution_count": 38,
     "metadata": {},
     "output_type": "execute_result"
    }
   ],
   "source": [
    "ykt_data = pd.DataFrame({\n",
    "    \"Население\": pop_series,\n",
    "    \"Площадь\": area_series\n",
    "})\n",
    "ykt_data"
   ]
  },
  {
   "cell_type": "code",
   "execution_count": 36,
   "id": "fdcd0dae",
   "metadata": {},
   "outputs": [
    {
     "data": {
      "text/plain": [
       "Вилюйск      11095\n",
       "Нерюнгри     57009\n",
       "Якутск      318768\n",
       "Name: Население, dtype: int64"
      ]
     },
     "execution_count": 36,
     "metadata": {},
     "output_type": "execute_result"
    }
   ],
   "source": [
    "# Индексация\n",
    "ykt_data[\"Население\"]"
   ]
  },
  {
   "cell_type": "code",
   "execution_count": 39,
   "id": "83974252",
   "metadata": {},
   "outputs": [
    {
     "data": {
      "text/html": [
       "<div>\n",
       "<style scoped>\n",
       "    .dataframe tbody tr th:only-of-type {\n",
       "        vertical-align: middle;\n",
       "    }\n",
       "\n",
       "    .dataframe tbody tr th {\n",
       "        vertical-align: top;\n",
       "    }\n",
       "\n",
       "    .dataframe thead th {\n",
       "        text-align: right;\n",
       "    }\n",
       "</style>\n",
       "<table border=\"1\" class=\"dataframe\">\n",
       "  <thead>\n",
       "    <tr style=\"text-align: right;\">\n",
       "      <th></th>\n",
       "      <th>Население</th>\n",
       "      <th>Площадь</th>\n",
       "    </tr>\n",
       "  </thead>\n",
       "  <tbody>\n",
       "    <tr>\n",
       "      <th>Вилюйск</th>\n",
       "      <td>11095.0</td>\n",
       "      <td>15.0</td>\n",
       "    </tr>\n",
       "    <tr>\n",
       "      <th>Нерюнгри</th>\n",
       "      <td>57009.0</td>\n",
       "      <td>98.9</td>\n",
       "    </tr>\n",
       "    <tr>\n",
       "      <th>Якутск</th>\n",
       "      <td>318768.0</td>\n",
       "      <td>122.0</td>\n",
       "    </tr>\n",
       "    <tr>\n",
       "      <th>Тикси</th>\n",
       "      <td>4000.0</td>\n",
       "      <td>NaN</td>\n",
       "    </tr>\n",
       "  </tbody>\n",
       "</table>\n",
       "</div>"
      ],
      "text/plain": [
       "          Население  Площадь\n",
       "Вилюйск     11095.0     15.0\n",
       "Нерюнгри    57009.0     98.9\n",
       "Якутск     318768.0    122.0\n",
       "Тикси        4000.0      NaN"
      ]
     },
     "execution_count": 39,
     "metadata": {},
     "output_type": "execute_result"
    }
   ],
   "source": [
    "# добавление новых данных\n",
    "# Loc- атрибут индексатор для явных индексов\n",
    "ykt_data.loc[\"Тикси\",\"Население\" ] = 4000\n",
    "ykt_data"
   ]
  },
  {
   "cell_type": "code",
   "execution_count": 40,
   "id": "cf84d1b9",
   "metadata": {},
   "outputs": [
    {
     "data": {
      "text/plain": [
       "Вилюйск      11095.0\n",
       "Нерюнгри     57009.0\n",
       "Якутск      318768.0\n",
       "Name: Население, dtype: float64"
      ]
     },
     "execution_count": 40,
     "metadata": {},
     "output_type": "execute_result"
    }
   ],
   "source": [
    "ykt_data.loc[:\"Якутск\",\"Население\"]"
   ]
  },
  {
   "cell_type": "code",
   "execution_count": null,
   "id": "0a192828",
   "metadata": {},
   "outputs": [],
   "source": []
  }
 ],
 "metadata": {
  "kernelspec": {
   "display_name": "Python 3 (ipykernel)",
   "language": "python",
   "name": "python3"
  },
  "language_info": {
   "codemirror_mode": {
    "name": "ipython",
    "version": 3
   },
   "file_extension": ".py",
   "mimetype": "text/x-python",
   "name": "python",
   "nbconvert_exporter": "python",
   "pygments_lexer": "ipython3",
   "version": "3.9.7"
  }
 },
 "nbformat": 4,
 "nbformat_minor": 5
}
