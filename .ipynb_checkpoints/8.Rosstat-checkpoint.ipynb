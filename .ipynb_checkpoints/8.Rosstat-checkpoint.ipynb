{
 "cells": [
  {
   "cell_type": "markdown",
   "id": "48dabf66",
   "metadata": {},
   "source": [
    "# Анализ данных из Росстат"
   ]
  },
  {
   "cell_type": "code",
   "execution_count": 1,
   "id": "4d9191ca",
   "metadata": {},
   "outputs": [],
   "source": [
    "import numpy as np\n",
    "import pandas as pd\n",
    "import matplotlib.pyplot as plt"
   ]
  },
  {
   "cell_type": "code",
   "execution_count": 2,
   "id": "51e1975a",
   "metadata": {},
   "outputs": [
    {
     "ename": "FileNotFoundError",
     "evalue": "[Errno 2] No such file or directory: 'data/cen-god.xls'",
     "output_type": "error",
     "traceback": [
      "\u001b[1;31m---------------------------------------------------------------------------\u001b[0m",
      "\u001b[1;31mFileNotFoundError\u001b[0m                         Traceback (most recent call last)",
      "\u001b[1;32m~\\AppData\\Local\\Temp/ipykernel_13408/1395165229.py\u001b[0m in \u001b[0;36m<module>\u001b[1;34m\u001b[0m\n\u001b[0;32m      1\u001b[0m \u001b[1;31m# загрузка данных\u001b[0m\u001b[1;33m\u001b[0m\u001b[1;33m\u001b[0m\u001b[0m\n\u001b[1;32m----> 2\u001b[1;33m \u001b[0mraw_df\u001b[0m \u001b[1;33m=\u001b[0m \u001b[0mpd\u001b[0m\u001b[1;33m.\u001b[0m\u001b[0mread_excel\u001b[0m\u001b[1;33m(\u001b[0m\u001b[1;34m\"data/cen-god.xls\"\u001b[0m\u001b[1;33m,\u001b[0m \u001b[0mskiprows\u001b[0m\u001b[1;33m=\u001b[0m\u001b[1;36m2\u001b[0m\u001b[1;33m)\u001b[0m\u001b[1;33m\u001b[0m\u001b[1;33m\u001b[0m\u001b[0m\n\u001b[0m\u001b[0;32m      3\u001b[0m \u001b[0mraw_df\u001b[0m\u001b[1;33m.\u001b[0m\u001b[0mhead\u001b[0m\u001b[1;33m(\u001b[0m\u001b[1;36m10\u001b[0m\u001b[1;33m)\u001b[0m\u001b[1;33m\u001b[0m\u001b[1;33m\u001b[0m\u001b[0m\n",
      "\u001b[1;32m~\\anaconda3\\lib\\site-packages\\pandas\\util\\_decorators.py\u001b[0m in \u001b[0;36mwrapper\u001b[1;34m(*args, **kwargs)\u001b[0m\n\u001b[0;32m    309\u001b[0m                     \u001b[0mstacklevel\u001b[0m\u001b[1;33m=\u001b[0m\u001b[0mstacklevel\u001b[0m\u001b[1;33m,\u001b[0m\u001b[1;33m\u001b[0m\u001b[1;33m\u001b[0m\u001b[0m\n\u001b[0;32m    310\u001b[0m                 )\n\u001b[1;32m--> 311\u001b[1;33m             \u001b[1;32mreturn\u001b[0m \u001b[0mfunc\u001b[0m\u001b[1;33m(\u001b[0m\u001b[1;33m*\u001b[0m\u001b[0margs\u001b[0m\u001b[1;33m,\u001b[0m \u001b[1;33m**\u001b[0m\u001b[0mkwargs\u001b[0m\u001b[1;33m)\u001b[0m\u001b[1;33m\u001b[0m\u001b[1;33m\u001b[0m\u001b[0m\n\u001b[0m\u001b[0;32m    312\u001b[0m \u001b[1;33m\u001b[0m\u001b[0m\n\u001b[0;32m    313\u001b[0m         \u001b[1;32mreturn\u001b[0m \u001b[0mwrapper\u001b[0m\u001b[1;33m\u001b[0m\u001b[1;33m\u001b[0m\u001b[0m\n",
      "\u001b[1;32m~\\anaconda3\\lib\\site-packages\\pandas\\io\\excel\\_base.py\u001b[0m in \u001b[0;36mread_excel\u001b[1;34m(io, sheet_name, header, names, index_col, usecols, squeeze, dtype, engine, converters, true_values, false_values, skiprows, nrows, na_values, keep_default_na, na_filter, verbose, parse_dates, date_parser, thousands, comment, skipfooter, convert_float, mangle_dupe_cols, storage_options)\u001b[0m\n\u001b[0;32m    362\u001b[0m     \u001b[1;32mif\u001b[0m \u001b[1;32mnot\u001b[0m \u001b[0misinstance\u001b[0m\u001b[1;33m(\u001b[0m\u001b[0mio\u001b[0m\u001b[1;33m,\u001b[0m \u001b[0mExcelFile\u001b[0m\u001b[1;33m)\u001b[0m\u001b[1;33m:\u001b[0m\u001b[1;33m\u001b[0m\u001b[1;33m\u001b[0m\u001b[0m\n\u001b[0;32m    363\u001b[0m         \u001b[0mshould_close\u001b[0m \u001b[1;33m=\u001b[0m \u001b[1;32mTrue\u001b[0m\u001b[1;33m\u001b[0m\u001b[1;33m\u001b[0m\u001b[0m\n\u001b[1;32m--> 364\u001b[1;33m         \u001b[0mio\u001b[0m \u001b[1;33m=\u001b[0m \u001b[0mExcelFile\u001b[0m\u001b[1;33m(\u001b[0m\u001b[0mio\u001b[0m\u001b[1;33m,\u001b[0m \u001b[0mstorage_options\u001b[0m\u001b[1;33m=\u001b[0m\u001b[0mstorage_options\u001b[0m\u001b[1;33m,\u001b[0m \u001b[0mengine\u001b[0m\u001b[1;33m=\u001b[0m\u001b[0mengine\u001b[0m\u001b[1;33m)\u001b[0m\u001b[1;33m\u001b[0m\u001b[1;33m\u001b[0m\u001b[0m\n\u001b[0m\u001b[0;32m    365\u001b[0m     \u001b[1;32melif\u001b[0m \u001b[0mengine\u001b[0m \u001b[1;32mand\u001b[0m \u001b[0mengine\u001b[0m \u001b[1;33m!=\u001b[0m \u001b[0mio\u001b[0m\u001b[1;33m.\u001b[0m\u001b[0mengine\u001b[0m\u001b[1;33m:\u001b[0m\u001b[1;33m\u001b[0m\u001b[1;33m\u001b[0m\u001b[0m\n\u001b[0;32m    366\u001b[0m         raise ValueError(\n",
      "\u001b[1;32m~\\anaconda3\\lib\\site-packages\\pandas\\io\\excel\\_base.py\u001b[0m in \u001b[0;36m__init__\u001b[1;34m(self, path_or_buffer, engine, storage_options)\u001b[0m\n\u001b[0;32m   1189\u001b[0m                 \u001b[0mext\u001b[0m \u001b[1;33m=\u001b[0m \u001b[1;34m\"xls\"\u001b[0m\u001b[1;33m\u001b[0m\u001b[1;33m\u001b[0m\u001b[0m\n\u001b[0;32m   1190\u001b[0m             \u001b[1;32melse\u001b[0m\u001b[1;33m:\u001b[0m\u001b[1;33m\u001b[0m\u001b[1;33m\u001b[0m\u001b[0m\n\u001b[1;32m-> 1191\u001b[1;33m                 ext = inspect_excel_format(\n\u001b[0m\u001b[0;32m   1192\u001b[0m                     \u001b[0mcontent_or_path\u001b[0m\u001b[1;33m=\u001b[0m\u001b[0mpath_or_buffer\u001b[0m\u001b[1;33m,\u001b[0m \u001b[0mstorage_options\u001b[0m\u001b[1;33m=\u001b[0m\u001b[0mstorage_options\u001b[0m\u001b[1;33m\u001b[0m\u001b[1;33m\u001b[0m\u001b[0m\n\u001b[0;32m   1193\u001b[0m                 )\n",
      "\u001b[1;32m~\\anaconda3\\lib\\site-packages\\pandas\\io\\excel\\_base.py\u001b[0m in \u001b[0;36minspect_excel_format\u001b[1;34m(content_or_path, storage_options)\u001b[0m\n\u001b[0;32m   1068\u001b[0m         \u001b[0mcontent_or_path\u001b[0m \u001b[1;33m=\u001b[0m \u001b[0mBytesIO\u001b[0m\u001b[1;33m(\u001b[0m\u001b[0mcontent_or_path\u001b[0m\u001b[1;33m)\u001b[0m\u001b[1;33m\u001b[0m\u001b[1;33m\u001b[0m\u001b[0m\n\u001b[0;32m   1069\u001b[0m \u001b[1;33m\u001b[0m\u001b[0m\n\u001b[1;32m-> 1070\u001b[1;33m     with get_handle(\n\u001b[0m\u001b[0;32m   1071\u001b[0m         \u001b[0mcontent_or_path\u001b[0m\u001b[1;33m,\u001b[0m \u001b[1;34m\"rb\"\u001b[0m\u001b[1;33m,\u001b[0m \u001b[0mstorage_options\u001b[0m\u001b[1;33m=\u001b[0m\u001b[0mstorage_options\u001b[0m\u001b[1;33m,\u001b[0m \u001b[0mis_text\u001b[0m\u001b[1;33m=\u001b[0m\u001b[1;32mFalse\u001b[0m\u001b[1;33m\u001b[0m\u001b[1;33m\u001b[0m\u001b[0m\n\u001b[0;32m   1072\u001b[0m     ) as handle:\n",
      "\u001b[1;32m~\\anaconda3\\lib\\site-packages\\pandas\\io\\common.py\u001b[0m in \u001b[0;36mget_handle\u001b[1;34m(path_or_buf, mode, encoding, compression, memory_map, is_text, errors, storage_options)\u001b[0m\n\u001b[0;32m    709\u001b[0m         \u001b[1;32melse\u001b[0m\u001b[1;33m:\u001b[0m\u001b[1;33m\u001b[0m\u001b[1;33m\u001b[0m\u001b[0m\n\u001b[0;32m    710\u001b[0m             \u001b[1;31m# Binary mode\u001b[0m\u001b[1;33m\u001b[0m\u001b[1;33m\u001b[0m\u001b[0m\n\u001b[1;32m--> 711\u001b[1;33m             \u001b[0mhandle\u001b[0m \u001b[1;33m=\u001b[0m \u001b[0mopen\u001b[0m\u001b[1;33m(\u001b[0m\u001b[0mhandle\u001b[0m\u001b[1;33m,\u001b[0m \u001b[0mioargs\u001b[0m\u001b[1;33m.\u001b[0m\u001b[0mmode\u001b[0m\u001b[1;33m)\u001b[0m\u001b[1;33m\u001b[0m\u001b[1;33m\u001b[0m\u001b[0m\n\u001b[0m\u001b[0;32m    712\u001b[0m         \u001b[0mhandles\u001b[0m\u001b[1;33m.\u001b[0m\u001b[0mappend\u001b[0m\u001b[1;33m(\u001b[0m\u001b[0mhandle\u001b[0m\u001b[1;33m)\u001b[0m\u001b[1;33m\u001b[0m\u001b[1;33m\u001b[0m\u001b[0m\n\u001b[0;32m    713\u001b[0m \u001b[1;33m\u001b[0m\u001b[0m\n",
      "\u001b[1;31mFileNotFoundError\u001b[0m: [Errno 2] No such file or directory: 'data/cen-god.xls'"
     ]
    }
   ],
   "source": [
    "# загрузка данных\n",
    "raw_df = pd.read_excel(\"data/cen-god.xls\", skiprows=2)\n",
    "raw_df.head(10)"
   ]
  },
  {
   "cell_type": "code",
   "execution_count": null,
   "id": "4e791377",
   "metadata": {},
   "outputs": [],
   "source": [
    "raw_df.shape"
   ]
  },
  {
   "cell_type": "code",
   "execution_count": null,
   "id": "7dffc70b",
   "metadata": {},
   "outputs": [],
   "source": [
    "# очищаем датафрейм от пустых строк\n",
    "raw_df = raw_df.dropna()\n",
    "raw_df.shape"
   ]
  },
  {
   "cell_type": "code",
   "execution_count": null,
   "id": "93ac5b62",
   "metadata": {},
   "outputs": [],
   "source": [
    "# проверка ключей столбцов\n",
    "raw_df.columns"
   ]
  },
  {
   "cell_type": "code",
   "execution_count": null,
   "id": "641c652f",
   "metadata": {},
   "outputs": [],
   "source": [
    "raw_df.columns[1:]"
   ]
  },
  {
   "cell_type": "code",
   "execution_count": null,
   "id": "c7bf4d3f",
   "metadata": {},
   "outputs": [],
   "source": [
    "type(raw_df.columns[1])"
   ]
  },
  {
   "cell_type": "code",
   "execution_count": null,
   "id": "63bf13b5",
   "metadata": {},
   "outputs": [],
   "source": [
    "# для удобства приводим значения ключей столбцов в единый строковой тип\n",
    "raw_df.columns = raw_df.columns.astype(\"str\")\n",
    "raw_df.columns"
   ]
  },
  {
   "cell_type": "code",
   "execution_count": null,
   "id": "49adc782",
   "metadata": {},
   "outputs": [],
   "source": [
    "# для того, чтобы категории товаров стали ключами столбцов транспонируем таблицу\n",
    "raw_df_2 = raw_df.T\n",
    "raw_df_2"
   ]
  },
  {
   "cell_type": "code",
   "execution_count": null,
   "id": "2f6e17ee",
   "metadata": {},
   "outputs": [],
   "source": [
    "raw_df_2.index"
   ]
  },
  {
   "cell_type": "code",
   "execution_count": null,
   "id": "7f1df617",
   "metadata": {},
   "outputs": [],
   "source": [
    "# в качестве ключей столбцов устанавливаем значения категории \"Показатели\"\n",
    "raw_df_2.columns = raw_df_2.loc[' ПОКАЗАТЕЛИ ', :]\n",
    "raw_df_2.head()"
   ]
  },
  {
   "cell_type": "code",
   "execution_count": null,
   "id": "622528c9",
   "metadata": {},
   "outputs": [],
   "source": [
    "raw_df_2 = raw_df_2.drop(' ПОКАЗАТЕЛИ ')\n",
    "raw_df_2.head()"
   ]
  },
  {
   "cell_type": "code",
   "execution_count": null,
   "id": "f38779cf",
   "metadata": {},
   "outputs": [],
   "source": [
    "raw_df_2.info()"
   ]
  },
  {
   "cell_type": "code",
   "execution_count": null,
   "id": "31a38128",
   "metadata": {},
   "outputs": [],
   "source": [
    "raw_df_2.columns"
   ]
  },
  {
   "cell_type": "code",
   "execution_count": null,
   "id": "1c18f04f",
   "metadata": {},
   "outputs": [],
   "source": [
    "raw_df_2['Отопление, за Гкал'].unique()"
   ]
  },
  {
   "cell_type": "code",
   "execution_count": null,
   "id": "da121904",
   "metadata": {},
   "outputs": [],
   "source": [
    "# замена '…' на 0.0\n",
    "raw_df_3 = raw_df_2.replace('…', 0.0)\n",
    "raw_df_3['Отопление, за Гкал'].unique()"
   ]
  },
  {
   "cell_type": "code",
   "execution_count": null,
   "id": "0c45a4f3",
   "metadata": {},
   "outputs": [],
   "source": [
    "raw_df_3.info()"
   ]
  },
  {
   "cell_type": "code",
   "execution_count": null,
   "id": "5958975c",
   "metadata": {},
   "outputs": [],
   "source": [
    "# выводим ключи столбцов, у которых тип данных \"object\"\n",
    "# raw_df_3.select_dtypes(include=\"object\").head()\n",
    "raw_df_3.select_dtypes(include=\"object\").columns"
   ]
  },
  {
   "cell_type": "code",
   "execution_count": null,
   "id": "50f25f29",
   "metadata": {},
   "outputs": [],
   "source": [
    "raw_df_3['Еврошифер15), за 10 м2'].unique()"
   ]
  },
  {
   "cell_type": "code",
   "execution_count": null,
   "id": "5b9a2567",
   "metadata": {},
   "outputs": [],
   "source": [
    "# замена '...' на 0.0\n",
    "raw_df_3 = raw_df_3.replace('...', 0.0)\n",
    "raw_df_3['Еврошифер15), за 10 м2'].unique()"
   ]
  },
  {
   "cell_type": "code",
   "execution_count": null,
   "id": "44561004",
   "metadata": {},
   "outputs": [],
   "source": [
    "raw_df_3.info()"
   ]
  },
  {
   "cell_type": "code",
   "execution_count": null,
   "id": "f98fe6a1",
   "metadata": {},
   "outputs": [],
   "source": [
    "# выводим ключи столбцов, у которых тип данных \"object\"\n",
    "# raw_df_3.select_dtypes(include=\"object\").head()\n",
    "raw_df_3.select_dtypes(include=\"object\").columns"
   ]
  },
  {
   "cell_type": "code",
   "execution_count": null,
   "id": "d82a3c21",
   "metadata": {},
   "outputs": [],
   "source": [
    "raw_df_3['Бензин автомобильный марки А-76 (АИ-80)17), за л'].unique()"
   ]
  },
  {
   "cell_type": "code",
   "execution_count": null,
   "id": "701335a0",
   "metadata": {},
   "outputs": [],
   "source": [
    "# замена '-' на 0.0\n",
    "raw_df_3 = raw_df_3.replace('-', 0.0)"
   ]
  },
  {
   "cell_type": "code",
   "execution_count": null,
   "id": "de56479c",
   "metadata": {},
   "outputs": [],
   "source": [
    "raw_df_3.info()"
   ]
  },
  {
   "cell_type": "code",
   "execution_count": null,
   "id": "e3175c38",
   "metadata": {},
   "outputs": [],
   "source": [
    "raw_df_3.select_dtypes(include=\"object\").columns"
   ]
  },
  {
   "cell_type": "code",
   "execution_count": null,
   "id": "794d4e46",
   "metadata": {},
   "outputs": [],
   "source": [
    "raw_df_3['Постановка набоек, за пару'].unique()"
   ]
  },
  {
   "cell_type": "code",
   "execution_count": null,
   "id": "4cf30820",
   "metadata": {},
   "outputs": [],
   "source": [
    "# замена ',' на '.'\n",
    "raw_df_3 = raw_df_3.replace(',', '.', regex=True)\n",
    "raw_df_3['Постановка набоек, за пару'].unique()"
   ]
  },
  {
   "cell_type": "code",
   "execution_count": null,
   "id": "0dab4ce4",
   "metadata": {},
   "outputs": [],
   "source": [
    "# конвертируем весь датафрейм в значение \"float\"\n",
    "raw_df_3 = raw_df_3.astype(\"float\")\n",
    "raw_df_3.info()"
   ]
  },
  {
   "cell_type": "code",
   "execution_count": null,
   "id": "b69c2008",
   "metadata": {},
   "outputs": [],
   "source": [
    "# очище"
   ]
  }
 ],
 "metadata": {
  "kernelspec": {
   "display_name": "Python 3 (ipykernel)",
   "language": "python",
   "name": "python3"
  },
  "language_info": {
   "codemirror_mode": {
    "name": "ipython",
    "version": 3
   },
   "file_extension": ".py",
   "mimetype": "text/x-python",
   "name": "python",
   "nbconvert_exporter": "python",
   "pygments_lexer": "ipython3",
   "version": "3.9.7"
  }
 },
 "nbformat": 4,
 "nbformat_minor": 5
}
